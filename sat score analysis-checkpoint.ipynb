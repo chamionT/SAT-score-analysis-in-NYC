{
 "cells": [
  {
   "cell_type": "markdown",
   "metadata": {},
   "source": [
    "# Objective - Understanding the efficacy of standardized tests"
   ]
  },
  {
   "attachments": {
    "image.png": {
     "image/png": "[encoded data removed]"
    }
   },
   "cell_type": "markdown",
   "metadata": {},
   "source": [
    "#### What factors affect SAT scores?\n",
    "#### Do certain racial groups perform better than others on SAT?\n",
    "\n",
    "\n",
    "\n",
    "### WHAT IS SAT?###\n",
    "The SAT is a standardized test widely used for college admissions in the United States. This project is based on the OLD SAT SCORE point system. The Exam is comprised of three sections - English, Math, Essay. Each section has a score of 800 points, totalling 2400 for all three. Here is an excerpt of the SAT percentiles. A student scoring 2130+ is in the 97th percentile, whereas a student scoring 1400 falls into the 40th percentile. We will use these numbers as a gauge for SAT excellence across different demographics.\n",
    "\n",
    "![image.png](attachment:image.png)\n",
    "\n",
    "### THE DATA###\n",
    "Data was extracted from multiple databases on https://data.cityofnewyork.us and combined into a master df for analysis. Each database provides valuable information in understanding its relationship to SAT scores.\n",
    "\n",
    "    AP test results - Data on AP test results (ap_2010.csv)\n",
    "    Class size - Data on class size (class_size.csv)\n",
    "    Demographics - Data on demographics (demographics.csv)\n",
    "    Graduation outcomes - Data on graduation outcomes (graduation.csv)\n",
    "    High School Directory (hs_directory.csv)\n",
    "    SAT scores by school (sat_results.csv)\n",
    "    \n",
    "    Survey Data - Surveys of parents, teachers, and students at each school\n",
    "        Data on surveys from all schools (survey_all.txt)\n",
    "        Data on surveys from New York City district 75 (survey_d75.txt)\n",
    "\n"
   ]
  },
  {
   "cell_type": "markdown",
   "metadata": {},
   "source": [
    "# Read in the data"
   ]
  },
  {
   "cell_type": "code",
   "execution_count": 25,
   "metadata": {},
   "outputs": [],
   "source": [
    "import pandas as pd\n",
    "data_files = [\n",
    "    \"ap_2010.csv\",\n",
    "    \"class_size.csv\",\n",
    "    \"demographics.csv\",\n",
    "    \"graduation.csv\",\n",
    "    \"hs_directory.csv\",\n",
    "    \"sat_results.csv\"\n",
    "]\n",
    "\n",
    "data = {}\n",
    "\n",
    "for f in data_files:\n",
    "    #reading in each dataframe\n",
    "    df = pd.read_csv(\"C:\\\\Users\\\\Thomas PC\\\\PYTHON_WORKBOOK\\\\schools\\\\{}\".format(f))\n",
    "    key_name = f.replace(\".csv\", \"\")\n",
    "    data[key_name] = df\n",
    "\n"
   ]
  },
  {
   "cell_type": "markdown",
   "metadata": {},
   "source": [
    "# Read in surveys --> survey_all.txt & survey_d75.txt\n",
    "\n",
    "    Extracting columns of interest"
   ]
  },
  {
   "cell_type": "code",
   "execution_count": 26,
   "metadata": {
    "scrolled": true
   },
   "outputs": [
    {
     "name": "stderr",
     "output_type": "stream",
     "text": [
      "C:\\ProgramData\\Anaconda3\\lib\\site-packages\\ipykernel_launcher.py:5: FutureWarning: Sorting because non-concatenation axis is not aligned. A future version\n",
      "of pandas will change to not sort by default.\n",
      "\n",
      "To accept the future behavior, pass 'sort=False'.\n",
      "\n",
      "To retain the current behavior and silence the warning, pass 'sort=True'.\n",
      "\n",
      "  \"\"\"\n"
     ]
    }
   ],
   "source": [
    "all_survey = pd.read_csv('C:\\\\Users\\\\Thomas PC\\\\PYTHON_WORKBOOK\\\\schools\\\\survey_all.txt', delimiter = '\\t', encoding = 'windows-1252')\n",
    "d75_survey = pd.read_csv('C:\\\\Users\\\\Thomas PC\\\\PYTHON_WORKBOOK\\\\schools\\\\survey_d75.txt', delimiter = '\\t', encoding = 'windows-1252')\n",
    "\n",
    "#Concatenating both files into 1 survey file\n",
    "survey = pd.concat([all_survey, d75_survey], axis = 0)\n",
    "\n",
    "\n",
    "#Changing the column name from 'dbn' to 'DBN'\n",
    "survey['DBN'] = survey['dbn']\n",
    "\n",
    "#Filtering out columns of interest from survey data\n",
    "columns = [\"DBN\", \"rr_s\", \"rr_t\", \"rr_p\", \"N_s\", \"N_t\", \"N_p\", \"saf_p_11\", \"com_p_11\", \"eng_p_11\", \"aca_p_11\", \"saf_t_11\", \"com_t_11\", \"eng_t_11\", \"aca_t_11\", \"saf_s_11\", \"com_s_11\", \"eng_s_11\", \"aca_s_11\", \"saf_tot_11\", \"com_tot_11\", \"eng_tot_11\", \"aca_tot_11\"]\n",
    "survey = survey.loc[:, columns]\n",
    "\n",
    "#Adding survey df to data dictionary\n",
    "data['survey'] = survey"
   ]
  },
  {
   "cell_type": "markdown",
   "metadata": {},
   "source": [
    "# Add DBN columns\n",
    "    Goal - to eventually join all dataframes on DBN column"
   ]
  },
  {
   "cell_type": "markdown",
   "metadata": {},
   "source": [
    "#### hs_directory"
   ]
  },
  {
   "cell_type": "code",
   "execution_count": 27,
   "metadata": {},
   "outputs": [],
   "source": [
    "#  Making the ['hs_directory']['dbn'] uppercase --> ['hs_directory']['DBN']\n",
    "data['hs_directory']['DBN'] = data['hs_directory']['dbn']"
   ]
  },
  {
   "cell_type": "markdown",
   "metadata": {},
   "source": [
    "#### class_size : \n",
    "\n",
    "    DBN column --> CSD(zero padded) + SCHOOL CODE"
   ]
  },
  {
   "cell_type": "code",
   "execution_count": 28,
   "metadata": {},
   "outputs": [],
   "source": [
    "# Padded_csd function to apply to a leading zero to the CSD column\n",
    "\n",
    "def padded_csd(num):\n",
    "    string = str(num)\n",
    "    if len(string) == 2:\n",
    "        return string\n",
    "    elif len(string) == 1:\n",
    "        return string.zfill(2)    #Fill with leading zero until the length of the string is 2 characters\n",
    "    \n",
    "# Adding a padded zero to class_size['CSD'] --> new column name \"padded_csd\"\n",
    "data['class_size']['padded_csd'] = data['class_size']['CSD'].apply(padded_csd)\n",
    "\n",
    "# Combining padded_csd and SCHOOL CODE columns to created new DBN column\n",
    "data['class_size']['DBN'] = data['class_size']['padded_csd'] + data['class_size']['SCHOOL CODE']\n",
    "        "
   ]
  },
  {
   "cell_type": "markdown",
   "metadata": {},
   "source": [
    "# Convert columns to numeric (sat_results , hs_directory)"
   ]
  },
  {
   "cell_type": "code",
   "execution_count": 29,
   "metadata": {},
   "outputs": [],
   "source": [
    "# In sat_results: Changing Reading, Writing, Math SAT score columns to numeric\n",
    "cols = ['SAT Critical Reading Avg. Score', 'SAT Math Avg. Score', 'SAT Writing Avg. Score']\n",
    "\n",
    "for c in cols:\n",
    "    data['sat_results'][c] = pd.to_numeric(data['sat_results'][c], errors = 'coerce')\n",
    "    \n",
    "#Creating a column of combined sat_results = Reading + Writing + Math\n",
    "data['sat_results']['sat_score'] = data['sat_results'][cols[0]] + data['sat_results'][cols[1]] + data['sat_results'][cols[2]]\n",
    "\n"
   ]
  },
  {
   "cell_type": "markdown",
   "metadata": {},
   "source": [
    "#### Parsing the longitude /latitude coordinates from hs_directory['Location 1']\n",
    "    Extracting the coordinates in parentheses"
   ]
  },
  {
   "cell_type": "code",
   "execution_count": 30,
   "metadata": {},
   "outputs": [
    {
     "data": {
      "text/plain": [
       "0    50 Avenue\\nX Brooklyn, NY 11223\\n(40.589238098...\n",
       "1    284 Baltic Street\\nBrooklyn, NY 11201\\n(40.685...\n",
       "2    45 35 Van Dam Street\\nLong Island City, NY 111...\n",
       "Name: Location 1, dtype: object"
      ]
     },
     "execution_count": 30,
     "metadata": {},
     "output_type": "execute_result"
    }
   ],
   "source": [
    "#Short output of Location 1 column. Lat / Lon in parenthesis\n",
    "data['hs_directory']['Location 1'].head(3)"
   ]
  },
  {
   "cell_type": "code",
   "execution_count": 31,
   "metadata": {},
   "outputs": [],
   "source": [
    "#lat extraction pattern and extraction\n",
    "pattern1 = r'\\((.+), .+\\)' \n",
    "data['hs_directory']['lat'] = data['hs_directory']['Location 1'].str.extract(pattern1)\n",
    "\n",
    "#lon extraction pattern and extraction\n",
    "pattern2 = r'\\(.+, (.+)\\)'  \n",
    "data['hs_directory']['lon'] = data['hs_directory']['Location 1'].str.extract(pattern2)\n",
    "\n",
    "# Converting lat, lon columns to numeric\n",
    "data['hs_directory']['lat'] = pd.to_numeric(data['hs_directory']['lat'], errors = 'coerce')\n",
    "data['hs_directory']['lon'] = pd.to_numeric(data['hs_directory']['lon'], errors = 'coerce')"
   ]
  },
  {
   "cell_type": "code",
   "execution_count": 32,
   "metadata": {},
   "outputs": [
    {
     "data": {
      "text/plain": [
       "0    40.589238\n",
       "1    40.685452\n",
       "2    40.744150\n",
       "Name: lat, dtype: float64"
      ]
     },
     "execution_count": 32,
     "metadata": {},
     "output_type": "execute_result"
    }
   ],
   "source": [
    "#Output of hs_directory['lat']\n",
    "data['hs_directory']['lat'].head(3)"
   ]
  },
  {
   "cell_type": "code",
   "execution_count": 33,
   "metadata": {},
   "outputs": [
    {
     "data": {
      "text/plain": [
       "0   -73.981747\n",
       "1   -73.993491\n",
       "2   -73.933627\n",
       "Name: lon, dtype: float64"
      ]
     },
     "execution_count": 33,
     "metadata": {},
     "output_type": "execute_result"
    }
   ],
   "source": [
    "#Output of hs_directory['lon']\n",
    "data['hs_directory']['lon'].head(3)"
   ]
  },
  {
   "cell_type": "markdown",
   "metadata": {},
   "source": [
    "# Condense datasets\n",
    "\n",
    "    Objective - Reduce dfs to contain unique DBN values for class_size, graduation, demographics    "
   ]
  },
  {
   "cell_type": "markdown",
   "metadata": {},
   "source": [
    "#### CLASS SIZE condense"
   ]
  },
  {
   "cell_type": "code",
   "execution_count": 34,
   "metadata": {},
   "outputs": [
    {
     "data": {
      "text/plain": [
       "09-12      10644\n",
       "MS Core     4762\n",
       "NaN         1484\n",
       "0K-09       1384\n",
       "0K          1237\n",
       "01          1185\n",
       "02          1167\n",
       "03          1143\n",
       "04          1140\n",
       "05          1086\n",
       "06           846\n",
       "07           778\n",
       "08           735\n",
       "09            20\n",
       "Name: GRADE , dtype: int64"
      ]
     },
     "execution_count": 34,
     "metadata": {},
     "output_type": "execute_result"
    }
   ],
   "source": [
    "# Output of unique values in ['class_size']['GRADE']\n",
    "data['class_size']['GRADE '].value_counts(dropna = False)"
   ]
  },
  {
   "cell_type": "code",
   "execution_count": 35,
   "metadata": {},
   "outputs": [
    {
     "data": {
      "text/html": [
       "<div>\n",
       "<style scoped>\n",
       "    .dataframe tbody tr th:only-of-type {\n",
       "        vertical-align: middle;\n",
       "    }\n",
       "\n",
       "    .dataframe tbody tr th {\n",
       "        vertical-align: top;\n",
       "    }\n",
       "\n",
       "    .dataframe thead th {\n",
       "        text-align: right;\n",
       "    }\n",
       "</style>\n",
       "<table border=\"1\" class=\"dataframe\">\n",
       "  <thead>\n",
       "    <tr style=\"text-align: right;\">\n",
       "      <th></th>\n",
       "      <th>DBN</th>\n",
       "      <th>CSD</th>\n",
       "      <th>NUMBER OF STUDENTS / SEATS FILLED</th>\n",
       "      <th>NUMBER OF SECTIONS</th>\n",
       "      <th>AVERAGE CLASS SIZE</th>\n",
       "      <th>SIZE OF SMALLEST CLASS</th>\n",
       "      <th>SIZE OF LARGEST CLASS</th>\n",
       "      <th>SCHOOLWIDE PUPIL-TEACHER RATIO</th>\n",
       "    </tr>\n",
       "  </thead>\n",
       "  <tbody>\n",
       "    <tr>\n",
       "      <th>0</th>\n",
       "      <td>01M292</td>\n",
       "      <td>1</td>\n",
       "      <td>88.0000</td>\n",
       "      <td>4.000000</td>\n",
       "      <td>22.564286</td>\n",
       "      <td>18.50</td>\n",
       "      <td>26.571429</td>\n",
       "      <td>NaN</td>\n",
       "    </tr>\n",
       "    <tr>\n",
       "      <th>1</th>\n",
       "      <td>01M332</td>\n",
       "      <td>1</td>\n",
       "      <td>46.0000</td>\n",
       "      <td>2.000000</td>\n",
       "      <td>22.000000</td>\n",
       "      <td>21.00</td>\n",
       "      <td>23.500000</td>\n",
       "      <td>NaN</td>\n",
       "    </tr>\n",
       "    <tr>\n",
       "      <th>2</th>\n",
       "      <td>01M378</td>\n",
       "      <td>1</td>\n",
       "      <td>33.0000</td>\n",
       "      <td>1.000000</td>\n",
       "      <td>33.000000</td>\n",
       "      <td>33.00</td>\n",
       "      <td>33.000000</td>\n",
       "      <td>NaN</td>\n",
       "    </tr>\n",
       "    <tr>\n",
       "      <th>3</th>\n",
       "      <td>01M448</td>\n",
       "      <td>1</td>\n",
       "      <td>105.6875</td>\n",
       "      <td>4.750000</td>\n",
       "      <td>22.231250</td>\n",
       "      <td>18.25</td>\n",
       "      <td>27.062500</td>\n",
       "      <td>NaN</td>\n",
       "    </tr>\n",
       "    <tr>\n",
       "      <th>4</th>\n",
       "      <td>01M450</td>\n",
       "      <td>1</td>\n",
       "      <td>57.6000</td>\n",
       "      <td>2.733333</td>\n",
       "      <td>21.200000</td>\n",
       "      <td>19.40</td>\n",
       "      <td>22.866667</td>\n",
       "      <td>NaN</td>\n",
       "    </tr>\n",
       "  </tbody>\n",
       "</table>\n",
       "</div>"
      ],
      "text/plain": [
       "      DBN  CSD  NUMBER OF STUDENTS / SEATS FILLED  NUMBER OF SECTIONS  \\\n",
       "0  01M292    1                            88.0000            4.000000   \n",
       "1  01M332    1                            46.0000            2.000000   \n",
       "2  01M378    1                            33.0000            1.000000   \n",
       "3  01M448    1                           105.6875            4.750000   \n",
       "4  01M450    1                            57.6000            2.733333   \n",
       "\n",
       "   AVERAGE CLASS SIZE  SIZE OF SMALLEST CLASS  SIZE OF LARGEST CLASS  \\\n",
       "0           22.564286                   18.50              26.571429   \n",
       "1           22.000000                   21.00              23.500000   \n",
       "2           33.000000                   33.00              33.000000   \n",
       "3           22.231250                   18.25              27.062500   \n",
       "4           21.200000                   19.40              22.866667   \n",
       "\n",
       "   SCHOOLWIDE PUPIL-TEACHER RATIO  \n",
       "0                             NaN  \n",
       "1                             NaN  \n",
       "2                             NaN  \n",
       "3                             NaN  \n",
       "4                             NaN  "
      ]
     },
     "execution_count": 35,
     "metadata": {},
     "output_type": "execute_result"
    }
   ],
   "source": [
    "# FILTER OUT 'GRADE' == '09-12' & 'PROGRAM TYPE' == 'GEN ED' --> class_size(new df)\n",
    "\n",
    "# Creating a copy of data['class_size']\n",
    "class_size = data['class_size']\n",
    "\n",
    "#Reducing class_size by 'GRADE ' == 09-12\n",
    "class_size = class_size[class_size['GRADE '] == '09-12']\n",
    "\n",
    "#Reducing class_size by 'PROGRAM TYPE' == GEN ED\n",
    "class_size = class_size[class_size['PROGRAM TYPE'] == 'GEN ED']\n",
    "\n",
    "\n",
    "#-----------------------CODE TO REMOVE DBN DUPLICATES FROM class_size df-----------------\n",
    "\n",
    "# Group class_size by 'DBN' and find aggregate mean\n",
    "import numpy as np\n",
    "class_size = class_size.groupby('DBN').agg(np.mean)   #This performs means across all columns\n",
    "\n",
    "# Reset the index DBN to make it a column again\n",
    "class_size.reset_index(inplace = True)\n",
    "\n",
    "#Assign class_size back to the class_size key of the data dictionary.\n",
    "data['class_size'] = class_size\n",
    "\n",
    "#Printing first 5 rows of class_size df --> Now unique DBN entries!\n",
    "data['class_size'].head()"
   ]
  },
  {
   "cell_type": "markdown",
   "metadata": {},
   "source": [
    "#### DEMOGRAPHICS condense  - filtering only school year '20112012'"
   ]
  },
  {
   "cell_type": "code",
   "execution_count": 36,
   "metadata": {},
   "outputs": [],
   "source": [
    "# Filter demographics, only selecting rows in data[\"demographics\"] where schoolyear is 20112012\n",
    "\n",
    "data['demographics'] = data['demographics'][data['demographics']['schoolyear'] == 20112012]  #note schoolyear is numeric"
   ]
  },
  {
   "cell_type": "markdown",
   "metadata": {},
   "source": [
    "####  GRADUATION condense - Filtering Demographic == \"Total Cohort\" & Cohort(year) == 2006 (most recent)       "
   ]
  },
  {
   "cell_type": "code",
   "execution_count": 37,
   "metadata": {},
   "outputs": [
    {
     "data": {
      "text/html": [
       "<div>\n",
       "<style scoped>\n",
       "    .dataframe tbody tr th:only-of-type {\n",
       "        vertical-align: middle;\n",
       "    }\n",
       "\n",
       "    .dataframe tbody tr th {\n",
       "        vertical-align: top;\n",
       "    }\n",
       "\n",
       "    .dataframe thead th {\n",
       "        text-align: right;\n",
       "    }\n",
       "</style>\n",
       "<table border=\"1\" class=\"dataframe\">\n",
       "  <thead>\n",
       "    <tr style=\"text-align: right;\">\n",
       "      <th></th>\n",
       "      <th>Demographic</th>\n",
       "      <th>DBN</th>\n",
       "      <th>School Name</th>\n",
       "      <th>Cohort</th>\n",
       "      <th>Total Cohort</th>\n",
       "      <th>Total Grads - n</th>\n",
       "      <th>Total Grads - % of cohort</th>\n",
       "      <th>Total Regents - n</th>\n",
       "      <th>Total Regents - % of cohort</th>\n",
       "      <th>Total Regents - % of grads</th>\n",
       "      <th>...</th>\n",
       "      <th>Regents w/o Advanced - n</th>\n",
       "      <th>Regents w/o Advanced - % of cohort</th>\n",
       "      <th>Regents w/o Advanced - % of grads</th>\n",
       "      <th>Local - n</th>\n",
       "      <th>Local - % of cohort</th>\n",
       "      <th>Local - % of grads</th>\n",
       "      <th>Still Enrolled - n</th>\n",
       "      <th>Still Enrolled - % of cohort</th>\n",
       "      <th>Dropped Out - n</th>\n",
       "      <th>Dropped Out - % of cohort</th>\n",
       "    </tr>\n",
       "  </thead>\n",
       "  <tbody>\n",
       "    <tr>\n",
       "      <th>3</th>\n",
       "      <td>Total Cohort</td>\n",
       "      <td>01M292</td>\n",
       "      <td>HENRY STREET SCHOOL FOR INTERNATIONAL</td>\n",
       "      <td>2006</td>\n",
       "      <td>78</td>\n",
       "      <td>43</td>\n",
       "      <td>55.1</td>\n",
       "      <td>36</td>\n",
       "      <td>46.2</td>\n",
       "      <td>83.7</td>\n",
       "      <td>...</td>\n",
       "      <td>36</td>\n",
       "      <td>46.2</td>\n",
       "      <td>83.7</td>\n",
       "      <td>7</td>\n",
       "      <td>9.0</td>\n",
       "      <td>16.3</td>\n",
       "      <td>16</td>\n",
       "      <td>20.5</td>\n",
       "      <td>11</td>\n",
       "      <td>14.1</td>\n",
       "    </tr>\n",
       "    <tr>\n",
       "      <th>10</th>\n",
       "      <td>Total Cohort</td>\n",
       "      <td>01M448</td>\n",
       "      <td>UNIVERSITY NEIGHBORHOOD HIGH SCHOOL</td>\n",
       "      <td>2006</td>\n",
       "      <td>124</td>\n",
       "      <td>53</td>\n",
       "      <td>42.7</td>\n",
       "      <td>42</td>\n",
       "      <td>33.9</td>\n",
       "      <td>79.2</td>\n",
       "      <td>...</td>\n",
       "      <td>34</td>\n",
       "      <td>27.4</td>\n",
       "      <td>64.2</td>\n",
       "      <td>11</td>\n",
       "      <td>8.9</td>\n",
       "      <td>20.8</td>\n",
       "      <td>46</td>\n",
       "      <td>37.1</td>\n",
       "      <td>20</td>\n",
       "      <td>16.1</td>\n",
       "    </tr>\n",
       "    <tr>\n",
       "      <th>17</th>\n",
       "      <td>Total Cohort</td>\n",
       "      <td>01M450</td>\n",
       "      <td>EAST SIDE COMMUNITY SCHOOL</td>\n",
       "      <td>2006</td>\n",
       "      <td>90</td>\n",
       "      <td>70</td>\n",
       "      <td>77.8</td>\n",
       "      <td>67</td>\n",
       "      <td>74.4</td>\n",
       "      <td>95.7</td>\n",
       "      <td>...</td>\n",
       "      <td>67</td>\n",
       "      <td>74.4</td>\n",
       "      <td>95.7</td>\n",
       "      <td>3</td>\n",
       "      <td>3.3</td>\n",
       "      <td>4.3</td>\n",
       "      <td>15</td>\n",
       "      <td>16.7</td>\n",
       "      <td>5</td>\n",
       "      <td>5.6</td>\n",
       "    </tr>\n",
       "    <tr>\n",
       "      <th>24</th>\n",
       "      <td>Total Cohort</td>\n",
       "      <td>01M509</td>\n",
       "      <td>MARTA VALLE HIGH SCHOOL</td>\n",
       "      <td>2006</td>\n",
       "      <td>84</td>\n",
       "      <td>47</td>\n",
       "      <td>56.0</td>\n",
       "      <td>40</td>\n",
       "      <td>47.6</td>\n",
       "      <td>85.1</td>\n",
       "      <td>...</td>\n",
       "      <td>23</td>\n",
       "      <td>27.4</td>\n",
       "      <td>48.9</td>\n",
       "      <td>7</td>\n",
       "      <td>8.3</td>\n",
       "      <td>14.9</td>\n",
       "      <td>25</td>\n",
       "      <td>29.8</td>\n",
       "      <td>5</td>\n",
       "      <td>6.0</td>\n",
       "    </tr>\n",
       "    <tr>\n",
       "      <th>31</th>\n",
       "      <td>Total Cohort</td>\n",
       "      <td>01M515</td>\n",
       "      <td>LOWER EAST SIDE PREPARATORY HIGH SCHO</td>\n",
       "      <td>2006</td>\n",
       "      <td>193</td>\n",
       "      <td>105</td>\n",
       "      <td>54.4</td>\n",
       "      <td>91</td>\n",
       "      <td>47.2</td>\n",
       "      <td>86.7</td>\n",
       "      <td>...</td>\n",
       "      <td>22</td>\n",
       "      <td>11.4</td>\n",
       "      <td>21.0</td>\n",
       "      <td>14</td>\n",
       "      <td>7.3</td>\n",
       "      <td>13.3</td>\n",
       "      <td>53</td>\n",
       "      <td>27.5</td>\n",
       "      <td>35</td>\n",
       "      <td>18.1</td>\n",
       "    </tr>\n",
       "  </tbody>\n",
       "</table>\n",
       "<p>5 rows × 23 columns</p>\n",
       "</div>"
      ],
      "text/plain": [
       "     Demographic     DBN                            School Name Cohort  \\\n",
       "3   Total Cohort  01M292  HENRY STREET SCHOOL FOR INTERNATIONAL   2006   \n",
       "10  Total Cohort  01M448    UNIVERSITY NEIGHBORHOOD HIGH SCHOOL   2006   \n",
       "17  Total Cohort  01M450             EAST SIDE COMMUNITY SCHOOL   2006   \n",
       "24  Total Cohort  01M509                MARTA VALLE HIGH SCHOOL   2006   \n",
       "31  Total Cohort  01M515  LOWER EAST SIDE PREPARATORY HIGH SCHO   2006   \n",
       "\n",
       "    Total Cohort Total Grads - n  Total Grads - % of cohort Total Regents - n  \\\n",
       "3             78              43                       55.1                36   \n",
       "10           124              53                       42.7                42   \n",
       "17            90              70                       77.8                67   \n",
       "24            84              47                       56.0                40   \n",
       "31           193             105                       54.4                91   \n",
       "\n",
       "    Total Regents - % of cohort  Total Regents - % of grads  \\\n",
       "3                          46.2                        83.7   \n",
       "10                         33.9                        79.2   \n",
       "17                         74.4                        95.7   \n",
       "24                         47.6                        85.1   \n",
       "31                         47.2                        86.7   \n",
       "\n",
       "              ...            Regents w/o Advanced - n  \\\n",
       "3             ...                                  36   \n",
       "10            ...                                  34   \n",
       "17            ...                                  67   \n",
       "24            ...                                  23   \n",
       "31            ...                                  22   \n",
       "\n",
       "    Regents w/o Advanced - % of cohort  Regents w/o Advanced - % of grads  \\\n",
       "3                                 46.2                               83.7   \n",
       "10                                27.4                               64.2   \n",
       "17                                74.4                               95.7   \n",
       "24                                27.4                               48.9   \n",
       "31                                11.4                               21.0   \n",
       "\n",
       "   Local - n  Local - % of cohort  Local - % of grads Still Enrolled - n  \\\n",
       "3          7                  9.0                16.3                 16   \n",
       "10        11                  8.9                20.8                 46   \n",
       "17         3                  3.3                 4.3                 15   \n",
       "24         7                  8.3                14.9                 25   \n",
       "31        14                  7.3                13.3                 53   \n",
       "\n",
       "    Still Enrolled - % of cohort  Dropped Out - n Dropped Out - % of cohort  \n",
       "3                           20.5               11                      14.1  \n",
       "10                          37.1               20                      16.1  \n",
       "17                          16.7                5                       5.6  \n",
       "24                          29.8                5                       6.0  \n",
       "31                          27.5               35                      18.1  \n",
       "\n",
       "[5 rows x 23 columns]"
      ]
     },
     "execution_count": 37,
     "metadata": {},
     "output_type": "execute_result"
    }
   ],
   "source": [
    "# Filter graduation, only selecting rows where the Cohort column equals 2006.\n",
    "data['graduation'] = data['graduation'][data['graduation']['Cohort'] == '2006']\n",
    "\n",
    "#Filter graduation, only selecting rows where the Demographic column equals Total Cohort.\n",
    "data['graduation'] = data['graduation'][data['graduation']['Demographic'] == 'Total Cohort']\n",
    "\n",
    "#Display the first few rows of data[\"graduation\"]\n",
    "data['graduation'].head()"
   ]
  },
  {
   "cell_type": "markdown",
   "metadata": {},
   "source": [
    "# Convert Advanced Placement (AP) scores to numeric   "
   ]
  },
  {
   "cell_type": "code",
   "execution_count": 38,
   "metadata": {},
   "outputs": [],
   "source": [
    "#AP columns of interest\n",
    "cols = ['AP Test Takers ', 'Total Exams Taken', 'Number of Exams with scores 3 4 or 5']\n",
    "\n",
    "for col in cols:\n",
    "    data['ap_2010'][col] = pd.to_numeric(data['ap_2010'][col], errors = 'coerce')    "
   ]
  },
  {
   "cell_type": "markdown",
   "metadata": {},
   "source": [
    "# Combine datasets"
   ]
  },
  {
   "cell_type": "markdown",
   "metadata": {},
   "source": [
    "### Merging strategies and rationale:\n",
    "\n",
    "To preserve as many rows as possible from sat_results while minimizing null values:\n",
    "    \n",
    "    LEFT join: sat_results.leftjoin(ap_2010) & graduation)   [lot's of missing DBN values in ap_2010 and graduation]\n",
    "               sat_results.leftjoin(graduation) \n",
    "    INNER join:\n",
    "            sat_results.innerjoin(class_size)\n",
    "            sat_results.innerjoin(demographics)\n",
    "            sat_results.innerjoin(survey)\n",
    "            sat_results.innerjoin(hs_directory)   "
   ]
  },
  {
   "cell_type": "code",
   "execution_count": 39,
   "metadata": {},
   "outputs": [],
   "source": [
    "#Creating a copy of sat_results; new df combined.\n",
    "combined = data['sat_results']\n",
    "\n",
    "#Left combine ap_2010, graduation\n",
    "combined = combined.merge(data['ap_2010'], how = 'left', on = 'DBN')\n",
    "combined = combined.merge(data['graduation'], how = 'left', on = 'DBN')\n",
    "\n",
    "#Performing inner joins with combined and merge_cols\n",
    "merge_cols = ['class_size', 'demographics','survey', 'hs_directory']\n",
    "for col in merge_cols:\n",
    "    combined = combined.merge(data[col], how = 'inner', on = 'DBN')\n",
    "    \n",
    "\n",
    "#Filling in missing values in combined with column mean\n",
    "combined_mean = combined.mean()\n",
    "combined = combined.fillna(combined_mean)\n",
    "combined = combined.fillna(0)   #Remaining null values replaced with zero"
   ]
  },
  {
   "cell_type": "markdown",
   "metadata": {},
   "source": [
    "# Add a school district number for mapping\n",
    "    Extract first 2 digits of DBN"
   ]
  },
  {
   "cell_type": "code",
   "execution_count": 40,
   "metadata": {},
   "outputs": [],
   "source": [
    "def extract_school_dist(DBN):\n",
    "    sch_dist = DBN[0:2]\n",
    "    return sch_dist\n",
    "\n",
    "#Apply this function to combined['DBN'], and creating new column combined['school_dist']\n",
    "combined['school_dist'] = combined['DBN'].apply(extract_school_dist)"
   ]
  },
  {
   "cell_type": "markdown",
   "metadata": {},
   "source": [
    "# Add sat_percentile column"
   ]
  },
  {
   "cell_type": "code",
   "execution_count": 41,
   "metadata": {},
   "outputs": [],
   "source": [
    "import pandas as pd\n",
    "#Reading in sat_percentiles 2400 rating scale conversion\n",
    "sat_percentiles = pd.read_csv('C:\\\\Users\\\\Thomas PC\\\\PYTHON_WORKBOOK\\\\schools\\\\sat_percentiles.csv')\n",
    "\n",
    "#Creating a dictionary of percentile values to map\n",
    "mapping = dict(sat_percentiles.values)\n",
    "\n",
    "#Converting sat_score to integer to facilitate even mapping\n",
    "combined['sat_score'] = combined['sat_score'].astype(int)\n",
    "\n",
    "#Creating sat_percentile column from mapped sat_score values\n",
    "combined['sat_percentile'] = combined['sat_score'].map(mapping)\n"
   ]
  },
  {
   "cell_type": "markdown",
   "metadata": {},
   "source": [
    "# Mapping survey vs sat_score correlations"
   ]
  },
  {
   "cell_type": "code",
   "execution_count": 42,
   "metadata": {},
   "outputs": [],
   "source": [
    "# Correlations for entire combined df\n",
    "correlations = combined.corr()\n",
    "\n",
    "#sat_score correlations only\n",
    "correlations = correlations['sat_score']"
   ]
  },
  {
   "cell_type": "code",
   "execution_count": 43,
   "metadata": {},
   "outputs": [
    {
     "data": {
      "text/plain": [
       "<matplotlib.axes._subplots.AxesSubplot at 0x130b15570f0>"
      ]
     },
     "execution_count": 43,
     "metadata": {},
     "output_type": "execute_result"
    },
    {
     "data": {
      "image/png": "[encoded data removed]",
      "text/plain": [
       "<Figure size 432x288 with 1 Axes>"
      ]
     },
     "metadata": {
      "needs_background": "light"
     },
     "output_type": "display_data"
    }
   ],
   "source": [
    "#Mapping survey_field vs sat_score correlations\n",
    "survey_fields = ['rr_s','rr_t','rr_p','N_s','N_t','N_p','saf_p_11','com_p_11','eng_p_11','aca_p_11','saf_t_11','com_t_11','eng_t_11','aca_t_11','saf_s_11','com_s_11','eng_s_11','aca_s_11','saf_tot_11','com_tot_11']\n",
    "\n",
    "%matplotlib inline\n",
    "combined.corr()['sat_score'][survey_fields].plot.bar()\n"
   ]
  },
  {
   "cell_type": "markdown",
   "metadata": {},
   "source": [
    "High correlations between **sat_score and N_s,N_t, N_p** (number of student, teacher, parent respondents respectively) are expected because these variables also correlate with total_enrollment.\n",
    "\n",
    "**rr_s**, the student response rate, might also be high because students who are likely to participate in a survey might also be more likely to score well on SAT. \n",
    "\n",
    "Perceived safety by parents, teachers and students(**saf_t_11, saf_f_11**, **saf_s_ll**,**saf_tot_11** ) correlate with sat_score. This might be because when a working environment is safer, students might perform better.\n",
    "\n",
    "Students with high Academic expectations, **aca_s_11** tended to perform well on SAT."
   ]
  },
  {
   "cell_type": "code",
   "execution_count": 44,
   "metadata": {},
   "outputs": [
    {
     "data": {
      "text/plain": [
       "N_s    0.951915\n",
       "N_t    0.956367\n",
       "N_p    0.799984\n",
       "Name: total_enrollment, dtype: float64"
      ]
     },
     "execution_count": 44,
     "metadata": {},
     "output_type": "execute_result"
    }
   ],
   "source": [
    "#Correlation between N_s,N_t, N_p and total_enrollment\n",
    "combined.corr()['total_enrollment'][['N_s','N_t', 'N_p']]"
   ]
  },
  {
   "cell_type": "markdown",
   "metadata": {},
   "source": [
    "# Investigating student's safety perception and sat_score"
   ]
  },
  {
   "cell_type": "code",
   "execution_count": 45,
   "metadata": {},
   "outputs": [
    {
     "data": {
      "text/plain": [
       "<matplotlib.axes._subplots.AxesSubplot at 0x130b13dfdd8>"
      ]
     },
     "execution_count": 45,
     "metadata": {},
     "output_type": "execute_result"
    },
    {
     "data": {
      "image/png": "[encoded data removed]",
      "text/plain": [
       "<Figure size 432x288 with 1 Axes>"
      ]
     },
     "metadata": {
      "needs_background": "light"
     },
     "output_type": "display_data"
    }
   ],
   "source": [
    "# scatter plot of the saf_s_11 column vs. the sat_score\n",
    "combined.plot.scatter('saf_s_11' ,'sat_score')\n"
   ]
  },
  {
   "cell_type": "code",
   "execution_count": 46,
   "metadata": {},
   "outputs": [
    {
     "data": {
      "text/plain": [
       "235    1436\n",
       "77     1374\n",
       "195    1353\n",
       "134    1333\n",
       "329    1316\n",
       "Name: sat_score, dtype: int32"
      ]
     },
     "execution_count": 46,
     "metadata": {},
     "output_type": "execute_result"
    }
   ],
   "source": [
    "#SAT scores of students who rated safety less than 6.5\n",
    "combined['sat_score'][combined['saf_s_11']<6.5].sort_values(ascending = False).head()"
   ]
  },
  {
   "cell_type": "markdown",
   "metadata": {},
   "source": [
    "Though the correlation is low positive (0.337), it can be said that students who rated school safety as HIGH also performed well on SAT. Students who rated school safety less than 6.5 scored a maximum of 1436 on SAT, placing them below the 50th percentile."
   ]
  },
  {
   "cell_type": "markdown",
   "metadata": {},
   "source": [
    "#### Plotting safety scores by district"
   ]
  },
  {
   "cell_type": "code",
   "execution_count": 47,
   "metadata": {},
   "outputs": [],
   "source": [
    "#Average safety score by district\n",
    "district_grouping = combined.groupby('school_dist').agg(np.mean)\n",
    "\n",
    "#Resetting index\n",
    "district_grouping.reset_index(inplace = True)"
   ]
  },
  {
   "cell_type": "markdown",
   "metadata": {},
   "source": [
    "#### Geographic layout function - geo_layout"
   ]
  },
  {
   "cell_type": "code",
   "execution_count": 50,
   "metadata": {},
   "outputs": [],
   "source": [
    "# Setting the os.environment PROJ_LIB to epsg file. Basemap wouldn't work without this fix\n",
    "import os\n",
    "os.environ[\"PROJ_LIB\"] = \"C:\\\\Users\\\\Thomas PC\\\\AppData\\\\Local\\\\conda\\\\conda\\\\pkgs\\\\basemap-1.2.1-py37h79c95a4_1\\\\Library\\\\share\\\\basemap\"; #fixr\n"
   ]
  },
  {
   "cell_type": "code",
   "execution_count": 51,
   "metadata": {},
   "outputs": [],
   "source": [
    "from mpl_toolkits.basemap import Basemap\n",
    "import matplotlib.pyplot as plt"
   ]
  },
  {
   "cell_type": "code",
   "execution_count": 52,
   "metadata": {},
   "outputs": [],
   "source": [
    "#Plotting function of NYC layout\n",
    "def geo_layout(df, demographic):\n",
    " \n",
    "    m = Basemap(\n",
    "        projection='merc', \n",
    "        llcrnrlat=40.496044, \n",
    "        urcrnrlat=40.915256, \n",
    "        llcrnrlon=-74.255735, \n",
    "        urcrnrlon=-73.700272,\n",
    "        resolution='i'\n",
    "    )\n",
    "\n",
    "    m.drawmapboundary(fill_color='black')  # Changed background color to black\n",
    "    m.drawcoastlines(color='#6D5F47', linewidth=.4)\n",
    "    m.drawrivers(color='#6D5F47', linewidth=.4)\n",
    "\n",
    "    #converting series to list to plot longitudes / latitudes\n",
    "    longitudes = df['lon'].tolist()\n",
    "    latitudes = df['lat'].tolist()\n",
    "\n",
    "\n",
    "    #Creating a scatter plot of longitudes and latitudes\n",
    "    m.scatter(longitudes, latitudes, s = 20, zorder = 2, latlon = True, c =df[demographic], cmap = 'summer' )"
   ]
  },
  {
   "cell_type": "code",
   "execution_count": 53,
   "metadata": {},
   "outputs": [
    {
     "data": {
      "image/png": "[encoded data removed]",
      "text/plain": [
       "<Figure size 432x288 with 1 Axes>"
      ]
     },
     "metadata": {},
     "output_type": "display_data"
    }
   ],
   "source": [
    "geo_layout(district_grouping, 'saf_s_11')"
   ]
  },
  {
   "cell_type": "markdown",
   "metadata": {},
   "source": [
    "Students report highest safety school ratings in Upper Manhattan, Bronx and Queens, but lowest safety rating in Brooklyn.\n",
    "\n",
    "School safety is based on multiple factors such as students feeling welcomed, ease of communication with teachers, and feeling secure on school property, procedures to handle drugs and violence, etc, safety does seem to have an impact on SAT scores. The above analysis is of course just cursory, and safety data is complex. Howerver, by working to make schools more safe, principals and other officials can potentially improve SAT scores. Collaboration between institutions across boroughs might also help to learn what positive measures have influenced students feelings of safety."
   ]
  },
  {
   "cell_type": "markdown",
   "metadata": {},
   "source": [
    "# Investigating racial differences and sat_score"
   ]
  },
  {
   "cell_type": "code",
   "execution_count": 54,
   "metadata": {},
   "outputs": [
    {
     "data": {
      "text/plain": [
       "<matplotlib.axes._subplots.AxesSubplot at 0x130b13cb0b8>"
      ]
     },
     "execution_count": 54,
     "metadata": {},
     "output_type": "execute_result"
    },
    {
     "data": {
      "image/png": "[encoded data removed]",
      "text/plain": [
       "<Figure size 432x288 with 1 Axes>"
      ]
     },
     "metadata": {
      "needs_background": "light"
     },
     "output_type": "display_data"
    }
   ],
   "source": [
    "racial_cols = ['white_per', 'asian_per', 'black_per', 'hispanic_per']\n",
    "\n",
    "#Bar plots of racial differences and sat_score\n",
    "combined.corr()['sat_score'][racial_cols].plot.bar()"
   ]
  },
  {
   "cell_type": "markdown",
   "metadata": {},
   "source": [
    "Schools with higher percentage of whites and asians report higher SAT scores (positive correlations). Conversely, schools with higher percentages of blacks and hispanics report lower SAT scores (negative correlations).\n",
    "\n",
    "There is a stronger negative correlation with hispanic_per vs sat_score (than black_per)."
   ]
  },
  {
   "cell_type": "markdown",
   "metadata": {},
   "source": [
    "#### Scatter plot of sat_scores vs hispanic / black percentages"
   ]
  },
  {
   "cell_type": "code",
   "execution_count": 55,
   "metadata": {},
   "outputs": [
    {
     "data": {
      "text/plain": [
       "<matplotlib.axes._subplots.AxesSubplot at 0x130af817e10>"
      ]
     },
     "execution_count": 55,
     "metadata": {},
     "output_type": "execute_result"
    },
    {
     "data": {
      "image/png": "[encoded data removed]",
      "text/plain": [
       "<Figure size 432x288 with 1 Axes>"
      ]
     },
     "metadata": {
      "needs_background": "light"
     },
     "output_type": "display_data"
    },
    {
     "data": {
      "image/png": "[encoded data removed]",
      "text/plain": [
       "<Figure size 432x288 with 1 Axes>"
      ]
     },
     "metadata": {
      "needs_background": "light"
     },
     "output_type": "display_data"
    },
    {
     "data": {
      "image/png": "[encoded data removed]",
      "text/plain": [
       "<Figure size 432x288 with 1 Axes>"
      ]
     },
     "metadata": {
      "needs_background": "light"
     },
     "output_type": "display_data"
    },
    {
     "data": {
      "image/png": "[encoded data removed]",
      "text/plain": [
       "<Figure size 432x288 with 1 Axes>"
      ]
     },
     "metadata": {
      "needs_background": "light"
     },
     "output_type": "display_data"
    }
   ],
   "source": [
    "#Scatter plot hispanics vs sat_score\n",
    "combined.plot.scatter('white_per', 'sat_score')\n",
    "combined.plot.scatter('asian_per', 'sat_score')\n",
    "combined.plot.scatter('black_per', 'sat_score')\n",
    "combined.plot.scatter('hispanic_per', 'sat_score')\n"
   ]
  },
  {
   "cell_type": "markdown",
   "metadata": {},
   "source": [
    "As reflected in the bar plot above, there is a relatively strong correlation between asian_per and white_per with sat_score, whereas negative correlations are seen between hispanic_per and sat_score. Schools with black and hispanic populations averaging 50% generally score between 1100-1400 on SAT exams."
   ]
  },
  {
   "cell_type": "markdown",
   "metadata": {},
   "source": [
    "#### Do Hispanics / Black attend specialized high schools in lower population ratios as Asians / Whites?"
   ]
  },
  {
   "cell_type": "code",
   "execution_count": 57,
   "metadata": {},
   "outputs": [
    {
     "data": {
      "text/html": [
       "<div>\n",
       "<style scoped>\n",
       "    .dataframe tbody tr th:only-of-type {\n",
       "        vertical-align: middle;\n",
       "    }\n",
       "\n",
       "    .dataframe tbody tr th {\n",
       "        vertical-align: top;\n",
       "    }\n",
       "\n",
       "    .dataframe thead th {\n",
       "        text-align: right;\n",
       "    }\n",
       "</style>\n",
       "<table border=\"1\" class=\"dataframe\">\n",
       "  <thead>\n",
       "    <tr style=\"text-align: right;\">\n",
       "      <th></th>\n",
       "      <th>SCHOOL NAME</th>\n",
       "      <th>sat_score</th>\n",
       "      <th>sat_percentile</th>\n",
       "      <th>asian_per</th>\n",
       "      <th>white_per</th>\n",
       "      <th>black_per</th>\n",
       "      <th>hispanic_per</th>\n",
       "      <th>AVERAGE CLASS SIZE</th>\n",
       "    </tr>\n",
       "  </thead>\n",
       "  <tbody>\n",
       "    <tr>\n",
       "      <th>37</th>\n",
       "      <td>STUYVESANT HIGH SCHOOL</td>\n",
       "      <td>2096</td>\n",
       "      <td>96</td>\n",
       "      <td>72.1</td>\n",
       "      <td>23.7</td>\n",
       "      <td>1.2</td>\n",
       "      <td>2.4</td>\n",
       "      <td>31.115789</td>\n",
       "    </tr>\n",
       "    <tr>\n",
       "      <th>151</th>\n",
       "      <td>BRONX HIGH SCHOOL OF SCIENCE</td>\n",
       "      <td>1969</td>\n",
       "      <td>91</td>\n",
       "      <td>63.5</td>\n",
       "      <td>25.4</td>\n",
       "      <td>3.5</td>\n",
       "      <td>7.2</td>\n",
       "      <td>31.163158</td>\n",
       "    </tr>\n",
       "    <tr>\n",
       "      <th>356</th>\n",
       "      <td>STATEN ISLAND TECHNICAL HIGH SCHOOL</td>\n",
       "      <td>1953</td>\n",
       "      <td>90</td>\n",
       "      <td>31.8</td>\n",
       "      <td>61.3</td>\n",
       "      <td>1.1</td>\n",
       "      <td>5.3</td>\n",
       "      <td>29.588235</td>\n",
       "    </tr>\n",
       "    <tr>\n",
       "      <th>155</th>\n",
       "      <td>HIGH SCHOOL OF AMERICAN STUDIES AT LEHMAN COLLEGE</td>\n",
       "      <td>1920</td>\n",
       "      <td>89</td>\n",
       "      <td>16.7</td>\n",
       "      <td>53.8</td>\n",
       "      <td>10.6</td>\n",
       "      <td>18.0</td>\n",
       "      <td>22.189474</td>\n",
       "    </tr>\n",
       "    <tr>\n",
       "      <th>302</th>\n",
       "      <td>TOWNSEND HARRIS HIGH SCHOOL</td>\n",
       "      <td>1910</td>\n",
       "      <td>88</td>\n",
       "      <td>55.5</td>\n",
       "      <td>24.6</td>\n",
       "      <td>5.9</td>\n",
       "      <td>12.9</td>\n",
       "      <td>29.362500</td>\n",
       "    </tr>\n",
       "    <tr>\n",
       "      <th>327</th>\n",
       "      <td>QUEENS HIGH SCHOOL FOR THE SCIENCES AT YORK CO...</td>\n",
       "      <td>1868</td>\n",
       "      <td>85</td>\n",
       "      <td>74.4</td>\n",
       "      <td>6.7</td>\n",
       "      <td>10.5</td>\n",
       "      <td>7.9</td>\n",
       "      <td>26.006667</td>\n",
       "    </tr>\n",
       "    <tr>\n",
       "      <th>5</th>\n",
       "      <td>BARD HIGH SCHOOL EARLY COLLEGE</td>\n",
       "      <td>1856</td>\n",
       "      <td>85</td>\n",
       "      <td>15.1</td>\n",
       "      <td>49.8</td>\n",
       "      <td>15.1</td>\n",
       "      <td>18.2</td>\n",
       "      <td>20.975000</td>\n",
       "    </tr>\n",
       "    <tr>\n",
       "      <th>79</th>\n",
       "      <td>HIGH SCHOOL FOR MATHEMATICS, SCIENCE AND ENGIN...</td>\n",
       "      <td>1847</td>\n",
       "      <td>84</td>\n",
       "      <td>36.2</td>\n",
       "      <td>26.1</td>\n",
       "      <td>15.0</td>\n",
       "      <td>21.2</td>\n",
       "      <td>21.681250</td>\n",
       "    </tr>\n",
       "    <tr>\n",
       "      <th>187</th>\n",
       "      <td>BROOKLYN TECHNICAL HIGH SCHOOL</td>\n",
       "      <td>1833</td>\n",
       "      <td>83</td>\n",
       "      <td>60.3</td>\n",
       "      <td>21.3</td>\n",
       "      <td>10.2</td>\n",
       "      <td>7.9</td>\n",
       "      <td>32.452632</td>\n",
       "    </tr>\n",
       "    <tr>\n",
       "      <th>26</th>\n",
       "      <td>ELEANOR ROOSEVELT HIGH SCHOOL</td>\n",
       "      <td>1758</td>\n",
       "      <td>77</td>\n",
       "      <td>17.2</td>\n",
       "      <td>63.7</td>\n",
       "      <td>5.5</td>\n",
       "      <td>11.6</td>\n",
       "      <td>27.433333</td>\n",
       "    </tr>\n",
       "    <tr>\n",
       "      <th>60</th>\n",
       "      <td>BEACON HIGH SCHOOL</td>\n",
       "      <td>1744</td>\n",
       "      <td>77</td>\n",
       "      <td>8.9</td>\n",
       "      <td>49.8</td>\n",
       "      <td>14.6</td>\n",
       "      <td>22.8</td>\n",
       "      <td>30.783333</td>\n",
       "    </tr>\n",
       "    <tr>\n",
       "      <th>198</th>\n",
       "      <td>BROOKLYN LATIN SCHOOL, THE</td>\n",
       "      <td>1740</td>\n",
       "      <td>77</td>\n",
       "      <td>36.8</td>\n",
       "      <td>14.5</td>\n",
       "      <td>26.7</td>\n",
       "      <td>17.9</td>\n",
       "      <td>23.260000</td>\n",
       "    </tr>\n",
       "  </tbody>\n",
       "</table>\n",
       "</div>"
      ],
      "text/plain": [
       "                                           SCHOOL NAME  sat_score  \\\n",
       "37                              STUYVESANT HIGH SCHOOL       2096   \n",
       "151                       BRONX HIGH SCHOOL OF SCIENCE       1969   \n",
       "356                STATEN ISLAND TECHNICAL HIGH SCHOOL       1953   \n",
       "155  HIGH SCHOOL OF AMERICAN STUDIES AT LEHMAN COLLEGE       1920   \n",
       "302                        TOWNSEND HARRIS HIGH SCHOOL       1910   \n",
       "327  QUEENS HIGH SCHOOL FOR THE SCIENCES AT YORK CO...       1868   \n",
       "5                       BARD HIGH SCHOOL EARLY COLLEGE       1856   \n",
       "79   HIGH SCHOOL FOR MATHEMATICS, SCIENCE AND ENGIN...       1847   \n",
       "187                     BROOKLYN TECHNICAL HIGH SCHOOL       1833   \n",
       "26                       ELEANOR ROOSEVELT HIGH SCHOOL       1758   \n",
       "60                                  BEACON HIGH SCHOOL       1744   \n",
       "198                         BROOKLYN LATIN SCHOOL, THE       1740   \n",
       "\n",
       "     sat_percentile  asian_per  white_per  black_per  hispanic_per  \\\n",
       "37               96       72.1       23.7        1.2           2.4   \n",
       "151              91       63.5       25.4        3.5           7.2   \n",
       "356              90       31.8       61.3        1.1           5.3   \n",
       "155              89       16.7       53.8       10.6          18.0   \n",
       "302              88       55.5       24.6        5.9          12.9   \n",
       "327              85       74.4        6.7       10.5           7.9   \n",
       "5                85       15.1       49.8       15.1          18.2   \n",
       "79               84       36.2       26.1       15.0          21.2   \n",
       "187              83       60.3       21.3       10.2           7.9   \n",
       "26               77       17.2       63.7        5.5          11.6   \n",
       "60               77        8.9       49.8       14.6          22.8   \n",
       "198              77       36.8       14.5       26.7          17.9   \n",
       "\n",
       "     AVERAGE CLASS SIZE  \n",
       "37            31.115789  \n",
       "151           31.163158  \n",
       "356           29.588235  \n",
       "155           22.189474  \n",
       "302           29.362500  \n",
       "327           26.006667  \n",
       "5             20.975000  \n",
       "79            21.681250  \n",
       "187           32.452632  \n",
       "26            27.433333  \n",
       "60            30.783333  \n",
       "198           23.260000  "
      ]
     },
     "execution_count": 57,
     "metadata": {},
     "output_type": "execute_result"
    }
   ],
   "source": [
    "#Schools scoring more than 1720 on SAT[75th percentile]\n",
    "top_75 = combined[['SCHOOL NAME','sat_score','sat_percentile','asian_per','white_per', 'black_per', 'hispanic_per', 'AVERAGE CLASS SIZE']][combined['sat_score'] > 1720].sort_values('sat_score', ascending = False)\n",
    "\n",
    "#Schools in the top 75 percentile sat score range\n",
    "top_75\n"
   ]
  },
  {
   "cell_type": "markdown",
   "metadata": {},
   "source": [
    "Research on these schools indicate that they are specialized schools or technical schools. These schools tend to have curriculums more focused on the Sciences and technology and nuture scholastics."
   ]
  },
  {
   "cell_type": "markdown",
   "metadata": {},
   "source": [
    "#### Racial breakdown at top 75 percentile schools"
   ]
  },
  {
   "cell_type": "code",
   "execution_count": 58,
   "metadata": {},
   "outputs": [],
   "source": [
    "# top_75.set_index('SCHOOL NAME', inplace = True)"
   ]
  },
  {
   "cell_type": "code",
   "execution_count": 59,
   "metadata": {},
   "outputs": [
    {
     "data": {
      "text/plain": [
       "<matplotlib.axes._subplots.AxesSubplot at 0x130b13ceeb8>"
      ]
     },
     "execution_count": 59,
     "metadata": {},
     "output_type": "execute_result"
    },
    {
     "data": {
      "image/png": "[encoded data removed]",
      "text/plain": [
       "<Figure size 864x504 with 1 Axes>"
      ]
     },
     "metadata": {
      "needs_background": "light"
     },
     "output_type": "display_data"
    }
   ],
   "source": [
    "top_75.loc[:,['asian_per','white_per', 'black_per', 'hispanic_per']].plot.bar(stacked=True,figsize=(12,7), title = \"Schools with SAT scores in top 75 percentile\")\n"
   ]
  },
  {
   "cell_type": "markdown",
   "metadata": {},
   "source": [
    "**<font color='blue'>Asians and Whites seem to attend more highly specialized schools than Blacks and Hispanics.</font>** This might be one factor as to why Asian / White demographics score higher on SAT than do Blacks and Hispanics."
   ]
  },
  {
   "cell_type": "markdown",
   "metadata": {},
   "source": [
    "# Relationship between AP test taking vs sat_score"
   ]
  },
  {
   "cell_type": "code",
   "execution_count": 60,
   "metadata": {},
   "outputs": [],
   "source": [
    "#An 'ap_per' column was created by dividing AP Test Takers by total_enrollment\n",
    "combined['ap_per'] = combined['AP Test Takers '] / combined['total_enrollment']"
   ]
  },
  {
   "cell_type": "code",
   "execution_count": 61,
   "metadata": {},
   "outputs": [
    {
     "data": {
      "text/plain": [
       "<matplotlib.axes._subplots.AxesSubplot at 0x130b1c31cf8>"
      ]
     },
     "execution_count": 61,
     "metadata": {},
     "output_type": "execute_result"
    },
    {
     "data": {
      "image/png": "[encoded data removed]",
      "text/plain": [
       "<Figure size 432x288 with 1 Axes>"
      ]
     },
     "metadata": {
      "needs_background": "light"
     },
     "output_type": "display_data"
    }
   ],
   "source": [
    "#Scatter plot of ap_per scores and sat_scores\n",
    "combined.plot.scatter('ap_per', 'sat_score')"
   ]
  },
  {
   "cell_type": "code",
   "execution_count": 62,
   "metadata": {},
   "outputs": [
    {
     "data": {
      "text/plain": [
       "0.05688539524672548"
      ]
     },
     "execution_count": 62,
     "metadata": {},
     "output_type": "execute_result"
    }
   ],
   "source": [
    "combined.corr()['sat_score']['ap_per']"
   ]
  },
  {
   "cell_type": "markdown",
   "metadata": {},
   "source": [
    "There is only a very weak +ve correlation between ap_per score and sat_score. This is surprising, because we would imagine that students with more AP test preparation would perform markedly better on SAT. A correlation of sat_score with AP Test Takers column (0.523) is skewed because total_enrollment is positively correlated to sat_score and is influencing the results."
   ]
  },
  {
   "cell_type": "markdown",
   "metadata": {},
   "source": [
    "# Looking at the relationship of Gender and sat_score"
   ]
  },
  {
   "cell_type": "code",
   "execution_count": 63,
   "metadata": {},
   "outputs": [
    {
     "data": {
      "text/plain": [
       "<matplotlib.axes._subplots.AxesSubplot at 0x130b1e9b4a8>"
      ]
     },
     "execution_count": 63,
     "metadata": {},
     "output_type": "execute_result"
    },
    {
     "data": {
      "image/png": "[encoded data removed]",
      "text/plain": [
       "<Figure size 432x288 with 1 Axes>"
      ]
     },
     "metadata": {
      "needs_background": "light"
     },
     "output_type": "display_data"
    }
   ],
   "source": [
    "gender_cols = ['male_num','male_per','female_num','female_per']\n",
    "combined.corr()['sat_score'][gender_cols].plot.bar()"
   ]
  },
  {
   "cell_type": "markdown",
   "metadata": {},
   "source": [
    "Although numbers of males and females have a positive correlation with SAT, it is interesting that higher male percentage of student reflects a lower SAT score, while a weak positive correlation exists between female_per and sat_score."
   ]
  },
  {
   "cell_type": "markdown",
   "metadata": {},
   "source": [
    "#### Scatter plot of gender percentage and sat_score"
   ]
  },
  {
   "cell_type": "code",
   "execution_count": 64,
   "metadata": {},
   "outputs": [
    {
     "data": {
      "text/plain": [
       "<matplotlib.axes._subplots.AxesSubplot at 0x130b1f47278>"
      ]
     },
     "execution_count": 64,
     "metadata": {},
     "output_type": "execute_result"
    },
    {
     "data": {
      "image/png": "[encoded data removed]",
      "text/plain": [
       "<Figure size 432x288 with 1 Axes>"
      ]
     },
     "metadata": {
      "needs_background": "light"
     },
     "output_type": "display_data"
    },
    {
     "data": {
      "image/png": "[encoded data removed]",
      "text/plain": [
       "<Figure size 432x288 with 1 Axes>"
      ]
     },
     "metadata": {
      "needs_background": "light"
     },
     "output_type": "display_data"
    }
   ],
   "source": [
    "combined.plot.scatter('male_per', 'sat_score')\n",
    "combined.plot.scatter('female_per', 'sat_score')"
   ]
  },
  {
   "cell_type": "markdown",
   "metadata": {},
   "source": [
    "Only weak correlations exist between gender and sat_score. There is however a slightly negative relationship between male percentage and sat_score."
   ]
  },
  {
   "cell_type": "markdown",
   "metadata": {},
   "source": [
    "#### Geo layout of males / females by district"
   ]
  },
  {
   "cell_type": "code",
   "execution_count": 65,
   "metadata": {},
   "outputs": [
    {
     "data": {
      "image/png": "[encoded data removed]",
      "text/plain": [
       "<Figure size 432x288 with 1 Axes>"
      ]
     },
     "metadata": {},
     "output_type": "display_data"
    }
   ],
   "source": [
    "# Geo Layout Male Percentage in schools across NYC\n",
    "geo_layout(district_grouping,'male_per')"
   ]
  },
  {
   "cell_type": "code",
   "execution_count": 66,
   "metadata": {},
   "outputs": [
    {
     "data": {
      "image/png": "[encoded data removed]",
      "text/plain": [
       "<Figure size 432x288 with 1 Axes>"
      ]
     },
     "metadata": {},
     "output_type": "display_data"
    }
   ],
   "source": [
    "# Geo Layout Female Percentage in schools across NYC\n",
    "geo_layout(district_grouping,'female_per')"
   ]
  },
  {
   "cell_type": "markdown",
   "metadata": {},
   "source": [
    "The Geo layouts show a higher percentage of males than females in schools across NYC. There is only a very weak correlation between gender and sat_score"
   ]
  },
  {
   "cell_type": "markdown",
   "metadata": {},
   "source": [
    "#### Are there any outstanding characteristics about high ranking schools with high percentages Males? Females?"
   ]
  },
  {
   "cell_type": "code",
   "execution_count": 67,
   "metadata": {},
   "outputs": [
    {
     "data": {
      "text/plain": [
       "['HIGH SCHOOL FOR MATHEMATICS, SCIENCE AND ENGINEERING AT CITY COLLEGE']"
      ]
     },
     "execution_count": 67,
     "metadata": {},
     "output_type": "execute_result"
    }
   ],
   "source": [
    "#Which schools have high sat score (>1700) and high male percentage (> 60%)?\n",
    "high_sat = combined['sat_score'] > 1700\n",
    "high_male_percent = combined['male_per'] > 60\n",
    "high_sat_high_male = high_sat & high_male_percent\n",
    "\n",
    "#Schools with high sat scores and high percentage of males\n",
    "list(combined['SCHOOL NAME'][high_sat_high_male])"
   ]
  },
  {
   "cell_type": "code",
   "execution_count": 68,
   "metadata": {},
   "outputs": [
    {
     "data": {
      "text/plain": [
       "5                         BARD HIGH SCHOOL EARLY COLLEGE\n",
       "26                         ELEANOR ROOSEVELT HIGH SCHOOL\n",
       "60                                    BEACON HIGH SCHOOL\n",
       "61     FIORELLO H. LAGUARDIA HIGH SCHOOL OF MUSIC & A...\n",
       "302                          TOWNSEND HARRIS HIGH SCHOOL\n",
       "Name: SCHOOL NAME, dtype: object"
      ]
     },
     "execution_count": 68,
     "metadata": {},
     "output_type": "execute_result"
    }
   ],
   "source": [
    "#Which schools have high sat score (>1700) and high female percentage (> 60%)?\n",
    "high_sat = combined['sat_score'] > 1700\n",
    "high_fem_percent = combined['female_per'] > 60\n",
    "high_sat_high_fem = high_sat & high_fem_percent\n",
    "\n",
    "#Schools with high sat scores and high percentage of females\n",
    "combined['SCHOOL NAME'][high_sat_high_fem]"
   ]
  },
  {
   "cell_type": "markdown",
   "metadata": {},
   "source": [
    "#### <font color='blue'>Gender alone does not seem to have a bearing on SAT score.</font>\n",
    "\n",
    "Schools with higher percentage of males or females and which perform highly on SAT seem to have specialization as their outstanding characteristic. **The list contains curriculum specialized schools for highly gifted students.**"
   ]
  },
  {
   "cell_type": "markdown",
   "metadata": {},
   "source": [
    "# Exploring average class size and sat_score"
   ]
  },
  {
   "cell_type": "code",
   "execution_count": 69,
   "metadata": {},
   "outputs": [
    {
     "data": {
      "text/plain": [
       "<matplotlib.axes._subplots.AxesSubplot at 0x130b1fde4e0>"
      ]
     },
     "execution_count": 69,
     "metadata": {},
     "output_type": "execute_result"
    },
    {
     "data": {
      "image/png": "[encoded data removed]",
      "text/plain": [
       "<Figure size 432x288 with 1 Axes>"
      ]
     },
     "metadata": {
      "needs_background": "light"
     },
     "output_type": "display_data"
    }
   ],
   "source": [
    "#Class size columns\n",
    "class_size_cols = ['AVERAGE CLASS SIZE','SIZE OF SMALLEST CLASS', 'SIZE OF LARGEST CLASS']\n",
    "\n",
    "#Correlation graph between class size and sat_score\n",
    "combined.corr()['sat_score'][class_size_cols].plot.bar()"
   ]
  },
  {
   "cell_type": "markdown",
   "metadata": {},
   "source": [
    "There is a slight positive correlation between avg class size and sat_score"
   ]
  },
  {
   "cell_type": "code",
   "execution_count": 70,
   "metadata": {},
   "outputs": [
    {
     "data": {
      "text/plain": [
       "<matplotlib.axes._subplots.AxesSubplot at 0x130b20d6390>"
      ]
     },
     "execution_count": 70,
     "metadata": {},
     "output_type": "execute_result"
    },
    {
     "data": {
      "image/png": "[encoded data removed]",
      "text/plain": [
       "<Figure size 432x288 with 1 Axes>"
      ]
     },
     "metadata": {
      "needs_background": "light"
     },
     "output_type": "display_data"
    },
    {
     "data": {
      "image/png": "[encoded data removed]",
      "text/plain": [
       "<Figure size 432x288 with 1 Axes>"
      ]
     },
     "metadata": {
      "needs_background": "light"
     },
     "output_type": "display_data"
    },
    {
     "data": {
      "image/png": "[encoded data removed]",
      "text/plain": [
       "<Figure size 432x288 with 1 Axes>"
      ]
     },
     "metadata": {
      "needs_background": "light"
     },
     "output_type": "display_data"
    }
   ],
   "source": [
    "#Scatter plot 'AVERAGE CLASS SIZE' vs sat_score\n",
    "combined.plot.scatter('AVERAGE CLASS SIZE', 'sat_score')\n",
    "combined.plot.scatter('SIZE OF SMALLEST CLASS', 'sat_score')\n",
    "combined.plot.scatter('SIZE OF LARGEST CLASS', 'sat_score')"
   ]
  },
  {
   "cell_type": "markdown",
   "metadata": {},
   "source": [
    "#### Do specilalized schools usually have large or small class sizes?"
   ]
  },
  {
   "cell_type": "code",
   "execution_count": 71,
   "metadata": {},
   "outputs": [
    {
     "data": {
      "text/html": [
       "<div>\n",
       "<style scoped>\n",
       "    .dataframe tbody tr th:only-of-type {\n",
       "        vertical-align: middle;\n",
       "    }\n",
       "\n",
       "    .dataframe tbody tr th {\n",
       "        vertical-align: top;\n",
       "    }\n",
       "\n",
       "    .dataframe thead th {\n",
       "        text-align: right;\n",
       "    }\n",
       "</style>\n",
       "<table border=\"1\" class=\"dataframe\">\n",
       "  <thead>\n",
       "    <tr style=\"text-align: right;\">\n",
       "      <th></th>\n",
       "      <th>sat_score</th>\n",
       "      <th>AVERAGE CLASS SIZE</th>\n",
       "    </tr>\n",
       "  </thead>\n",
       "  <tbody>\n",
       "    <tr>\n",
       "      <th>37</th>\n",
       "      <td>2096</td>\n",
       "      <td>31.115789</td>\n",
       "    </tr>\n",
       "    <tr>\n",
       "      <th>151</th>\n",
       "      <td>1969</td>\n",
       "      <td>31.163158</td>\n",
       "    </tr>\n",
       "    <tr>\n",
       "      <th>356</th>\n",
       "      <td>1953</td>\n",
       "      <td>29.588235</td>\n",
       "    </tr>\n",
       "    <tr>\n",
       "      <th>155</th>\n",
       "      <td>1920</td>\n",
       "      <td>22.189474</td>\n",
       "    </tr>\n",
       "    <tr>\n",
       "      <th>302</th>\n",
       "      <td>1910</td>\n",
       "      <td>29.362500</td>\n",
       "    </tr>\n",
       "    <tr>\n",
       "      <th>327</th>\n",
       "      <td>1868</td>\n",
       "      <td>26.006667</td>\n",
       "    </tr>\n",
       "    <tr>\n",
       "      <th>5</th>\n",
       "      <td>1856</td>\n",
       "      <td>20.975000</td>\n",
       "    </tr>\n",
       "    <tr>\n",
       "      <th>79</th>\n",
       "      <td>1847</td>\n",
       "      <td>21.681250</td>\n",
       "    </tr>\n",
       "    <tr>\n",
       "      <th>187</th>\n",
       "      <td>1833</td>\n",
       "      <td>32.452632</td>\n",
       "    </tr>\n",
       "    <tr>\n",
       "      <th>26</th>\n",
       "      <td>1758</td>\n",
       "      <td>27.433333</td>\n",
       "    </tr>\n",
       "    <tr>\n",
       "      <th>60</th>\n",
       "      <td>1744</td>\n",
       "      <td>30.783333</td>\n",
       "    </tr>\n",
       "    <tr>\n",
       "      <th>198</th>\n",
       "      <td>1740</td>\n",
       "      <td>23.260000</td>\n",
       "    </tr>\n",
       "  </tbody>\n",
       "</table>\n",
       "</div>"
      ],
      "text/plain": [
       "     sat_score  AVERAGE CLASS SIZE\n",
       "37        2096           31.115789\n",
       "151       1969           31.163158\n",
       "356       1953           29.588235\n",
       "155       1920           22.189474\n",
       "302       1910           29.362500\n",
       "327       1868           26.006667\n",
       "5         1856           20.975000\n",
       "79        1847           21.681250\n",
       "187       1833           32.452632\n",
       "26        1758           27.433333\n",
       "60        1744           30.783333\n",
       "198       1740           23.260000"
      ]
     },
     "execution_count": 71,
     "metadata": {},
     "output_type": "execute_result"
    }
   ],
   "source": [
    "#Average class size of the schools in 75th percentile\n",
    "top_75[['sat_score','AVERAGE CLASS SIZE']].sort_values('sat_score', ascending = False)"
   ]
  },
  {
   "cell_type": "markdown",
   "metadata": {},
   "source": [
    "**The most specialized schools - those that ranked in 75th percentile - had on average class sizes between 20-31 students.** Class size alone does not affect SAT scores. In fact, the majority of schools in all districts seem to have class sizes in this range. Schools that had smaller class sizes didn't have higher SAT scores. Larger class sizes didn't have lower than average SAT scores."
   ]
  },
  {
   "cell_type": "markdown",
   "metadata": {},
   "source": [
    "# Effect of English language on SAT in Hispanic / Asian populations."
   ]
  },
  {
   "cell_type": "markdown",
   "metadata": {},
   "source": [
    "The variable ell_percent is a measure of number of English Language learners in schools. Since the SAT exam is administered in English, it is logical that English language learners would score lower on SAT.\n",
    "\n",
    "**Which schools in which districts have higher amounts of English language learners?**\n",
    "\n",
    "**Might an environment of higher percentages of English language learners affect SAT score**"
   ]
  },
  {
   "cell_type": "markdown",
   "metadata": {},
   "source": [
    "#### Correlation of ell_percent and SAT score"
   ]
  },
  {
   "cell_type": "code",
   "execution_count": 107,
   "metadata": {},
   "outputs": [
    {
     "data": {
      "text/plain": [
       "<matplotlib.axes._subplots.AxesSubplot at 0x130b1fef9e8>"
      ]
     },
     "execution_count": 107,
     "metadata": {},
     "output_type": "execute_result"
    },
    {
     "data": {
      "image/png": "[encoded data removed]",
      "text/plain": [
       "<Figure size 432x288 with 1 Axes>"
      ]
     },
     "metadata": {
      "needs_background": "light"
     },
     "output_type": "display_data"
    }
   ],
   "source": [
    "# Scatter plot of ell_percent vs sat_score\n",
    "combined.plot.scatter('ell_percent', 'sat_score')"
   ]
  },
  {
   "cell_type": "code",
   "execution_count": 108,
   "metadata": {},
   "outputs": [
    {
     "data": {
      "text/plain": [
       "-0.3987923638534172"
      ]
     },
     "execution_count": 108,
     "metadata": {},
     "output_type": "execute_result"
    }
   ],
   "source": [
    "combined.corr()['sat_score']['ell_percent']"
   ]
  },
  {
   "cell_type": "markdown",
   "metadata": {},
   "source": [
    "There is a distinct and strong negative correlation between English language percent and SAT score. High percentages of English language learners have lower SAT scores."
   ]
  },
  {
   "cell_type": "markdown",
   "metadata": {},
   "source": [
    "#### Of schools with more than 80% English learners, do Hispanics or Asians make up higher percentages?"
   ]
  },
  {
   "cell_type": "code",
   "execution_count": 109,
   "metadata": {},
   "outputs": [
    {
     "data": {
      "image/png": "[encoded data removed]",
      "text/plain": [
       "<Figure size 432x288 with 1 Axes>"
      ]
     },
     "metadata": {},
     "output_type": "display_data"
    }
   ],
   "source": [
    "#Isolating schools with > 80% ell_percent by district vs asian_per\n",
    "geo_layout(combined[combined['ell_percent']> 80].groupby('school_dist').agg(np.mean), 'asian_per')"
   ]
  },
  {
   "cell_type": "code",
   "execution_count": 110,
   "metadata": {},
   "outputs": [
    {
     "data": {
      "image/png": "[encoded data removed]",
      "text/plain": [
       "<Figure size 432x288 with 1 Axes>"
      ]
     },
     "metadata": {},
     "output_type": "display_data"
    }
   ],
   "source": [
    "#Isolating schools with > 80% ell_percent by district vs hispanic_per\n",
    "geo_layout(combined[combined['ell_percent']> 80].groupby('school_dist').agg(np.mean), 'hispanic_per')"
   ]
  },
  {
   "cell_type": "markdown",
   "metadata": {},
   "source": [
    "Of schools with more than 80% English language schools, more schools contain higher levels of Hispanics than Asians across the districts. Students in learning environments where the majority of their peers are non-english speakers might find it harder to learn English. \n",
    "\n",
    "Asians seem to be in more integrated schools where the majority of students speak English. Hispanics seems to attend schools where the majority speak Spanish. This might deter English learning resulting in lower performance on SAT for Hispanics."
   ]
  },
  {
   "cell_type": "markdown",
   "metadata": {},
   "source": [
    "# How do student, teacher and parent academic expectations correlate with SAT score? "
   ]
  },
  {
   "cell_type": "code",
   "execution_count": 112,
   "metadata": {},
   "outputs": [
    {
     "data": {
      "text/plain": [
       "<matplotlib.axes._subplots.AxesSubplot at 0x130b250be48>"
      ]
     },
     "execution_count": 112,
     "metadata": {},
     "output_type": "execute_result"
    },
    {
     "data": {
      "image/png": "[encoded data removed]",
      "text/plain": [
       "<Figure size 432x288 with 1 Axes>"
      ]
     },
     "metadata": {
      "needs_background": "light"
     },
     "output_type": "display_data"
    }
   ],
   "source": [
    "combined.corr()['sat_score'][['aca_p_11', 'aca_s_11', 'aca_t_11']].plot.bar()"
   ]
  },
  {
   "cell_type": "markdown",
   "metadata": {},
   "source": [
    "Students with high academic expectations tend to perform better on SAT. "
   ]
  },
  {
   "cell_type": "markdown",
   "metadata": {},
   "source": [
    "#### In which schools do students have highest academic expections?"
   ]
  },
  {
   "cell_type": "code",
   "execution_count": 113,
   "metadata": {},
   "outputs": [
    {
     "data": {
      "text/plain": [
       "<matplotlib.axes._subplots.AxesSubplot at 0x130b225a978>"
      ]
     },
     "execution_count": 113,
     "metadata": {},
     "output_type": "execute_result"
    },
    {
     "data": {
      "image/png": "[encoded data removed]",
      "text/plain": [
       "<Figure size 432x288 with 1 Axes>"
      ]
     },
     "metadata": {
      "needs_background": "light"
     },
     "output_type": "display_data"
    }
   ],
   "source": [
    "#Scatter of student academic expectations vs sat_score\n",
    "combined.plot.scatter('aca_s_11', 'sat_score')"
   ]
  },
  {
   "cell_type": "markdown",
   "metadata": {},
   "source": [
    "Student with academic expectations scores > 7.5 scored higher on SAT."
   ]
  },
  {
   "cell_type": "code",
   "execution_count": 116,
   "metadata": {},
   "outputs": [
    {
     "data": {
      "text/plain": [
       "0.8363475062740979"
      ]
     },
     "execution_count": 116,
     "metadata": {},
     "output_type": "execute_result"
    }
   ],
   "source": [
    "combined.corr()['aca_s_11']['saf_s_11']                            "
   ]
  },
  {
   "cell_type": "markdown",
   "metadata": {},
   "source": [
    "Students with higher academic expectations also had higher safety scores. Higher school morale and inplace procedures for student safety might contribute to student contentment and learning. As a result SAT scores might be higher."
   ]
  },
  {
   "cell_type": "markdown",
   "metadata": {},
   "source": [
    "# From this analysis the following was learned:\n",
    "\n",
    "- Different racial demographics do perform differently on SAT, with Asians and Whites performing better than Blacks and Hispanics.\n",
    "- Whites and Asians seem to attend more specialized schools than other demographics. Specialized schools with a focus on academics most often have higest SAT scores.\n",
    "- English language proficiency impacts SAT score values. Higher proficiency results in better scores.\n",
    "- Non-English speakers who attend schools with higher percentages of English speakers perform better on SAT.\n",
    "-  Higher ratings of student safety and academic expectations result in higher SAT scores.\n",
    "-  Class size and gender of the student body majority seem to have little impact on SAT scores."
   ]
  },
  {
   "cell_type": "markdown",
   "metadata": {},
   "source": [
    "# Conclusion:\n",
    "\n",
    "While SAT scores are used as a measure of scholastic aptitude and gauge for college admission, some factors beyond intelligence give certain demographics an advantage over others. SAT scores are often reflective of student safety, English language proficiency and school specialization. Yet another factor to consider is the impact of school funding (usually available in wealthier neigborhoods) on SAT scores. This angle has not been explored in the analysis."
   ]
  },
  {
   "cell_type": "code",
   "execution_count": null,
   "metadata": {},
   "outputs": [],
   "source": []
  },
  {
   "cell_type": "code",
   "execution_count": null,
   "metadata": {},
   "outputs": [],
   "source": []
  },
  {
   "cell_type": "code",
   "execution_count": null,
   "metadata": {},
   "outputs": [],
   "source": []
  },
  {
   "cell_type": "code",
   "execution_count": null,
   "metadata": {},
   "outputs": [],
   "source": []
  },
  {
   "cell_type": "code",
   "execution_count": null,
   "metadata": {},
   "outputs": [],
   "source": []
  },
  {
   "cell_type": "code",
   "execution_count": null,
   "metadata": {},
   "outputs": [],
   "source": []
  },
  {
   "cell_type": "code",
   "execution_count": null,
   "metadata": {},
   "outputs": [],
   "source": []
  },
  {
   "cell_type": "code",
   "execution_count": null,
   "metadata": {},
   "outputs": [],
   "source": []
  },
  {
   "cell_type": "code",
   "execution_count": null,
   "metadata": {},
   "outputs": [],
   "source": []
  },
  {
   "cell_type": "code",
   "execution_count": null,
   "metadata": {},
   "outputs": [],
   "source": []
  },
  {
   "cell_type": "code",
   "execution_count": null,
   "metadata": {},
   "outputs": [],
   "source": []
  },
  {
   "cell_type": "code",
   "execution_count": null,
   "metadata": {},
   "outputs": [],
   "source": []
  },
  {
   "cell_type": "code",
   "execution_count": null,
   "metadata": {},
   "outputs": [],
   "source": []
  },
  {
   "cell_type": "code",
   "execution_count": null,
   "metadata": {},
   "outputs": [],
   "source": []
  },
  {
   "cell_type": "code",
   "execution_count": null,
   "metadata": {},
   "outputs": [],
   "source": []
  },
  {
   "cell_type": "code",
   "execution_count": null,
   "metadata": {},
   "outputs": [],
   "source": []
  },
  {
   "cell_type": "code",
   "execution_count": null,
   "metadata": {},
   "outputs": [],
   "source": []
  },
  {
   "cell_type": "code",
   "execution_count": null,
   "metadata": {},
   "outputs": [],
   "source": []
  },
  {
   "cell_type": "code",
   "execution_count": null,
   "metadata": {},
   "outputs": [],
   "source": []
  },
  {
   "cell_type": "code",
   "execution_count": null,
   "metadata": {},
   "outputs": [],
   "source": []
  },
  {
   "cell_type": "code",
   "execution_count": null,
   "metadata": {},
   "outputs": [],
   "source": []
  },
  {
   "cell_type": "code",
   "execution_count": null,
   "metadata": {},
   "outputs": [],
   "source": []
  },
  {
   "cell_type": "code",
   "execution_count": null,
   "metadata": {},
   "outputs": [],
   "source": []
  },
  {
   "cell_type": "code",
   "execution_count": null,
   "metadata": {},
   "outputs": [],
   "source": []
  },
  {
   "cell_type": "code",
   "execution_count": null,
   "metadata": {},
   "outputs": [],
   "source": []
  },
  {
   "cell_type": "code",
   "execution_count": null,
   "metadata": {},
   "outputs": [],
   "source": []
  },
  {
   "cell_type": "code",
   "execution_count": null,
   "metadata": {},
   "outputs": [],
   "source": []
  },
  {
   "cell_type": "code",
   "execution_count": null,
   "metadata": {},
   "outputs": [],
   "source": []
  },
  {
   "cell_type": "code",
   "execution_count": null,
   "metadata": {},
   "outputs": [],
   "source": []
  },
  {
   "cell_type": "code",
   "execution_count": null,
   "metadata": {},
   "outputs": [],
   "source": []
  },
  {
   "cell_type": "code",
   "execution_count": null,
   "metadata": {},
   "outputs": [],
   "source": []
  },
  {
   "cell_type": "code",
   "execution_count": null,
   "metadata": {},
   "outputs": [],
   "source": []
  }
 ],
 "metadata": {
  "kernelspec": {
   "display_name": "Python 3",
   "language": "python",
   "name": "python3"
  },
  "language_info": {
   "codemirror_mode": {
    "name": "ipython",
    "version": 3
   },
   "file_extension": ".py",
   "mimetype": "text/x-python",
   "name": "python",
   "nbconvert_exporter": "python",
   "pygments_lexer": "ipython3",
   "version": "3.7.1"
  }
 },
 "nbformat": 4,
 "nbformat_minor": 2
}
